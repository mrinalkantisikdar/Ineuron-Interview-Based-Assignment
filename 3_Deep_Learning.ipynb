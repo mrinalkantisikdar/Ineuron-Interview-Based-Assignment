{
  "nbformat": 4,
  "nbformat_minor": 0,
  "metadata": {
    "colab": {
      "provenance": []
    },
    "kernelspec": {
      "name": "python3",
      "display_name": "Python 3"
    },
    "language_info": {
      "name": "python"
    }
  },
  "cells": [
    {
      "cell_type": "markdown",
      "source": [
        "# Question 3 -\n",
        "Train a Pure CNN with less than 10000 trainable parameters using the MNIST\n",
        "Dataset having minimum validation accuracy of 99.40%\n",
        "Note -\n",
        "1. Code comments should be given for proper code understanding.\n",
        "2. Implement in both PyTorch and Tensorflow respectively"
      ],
      "metadata": {
        "id": "jERSu562MeCS"
      }
    },
    {
      "cell_type": "markdown",
      "source": [
        "PyTorch"
      ],
      "metadata": {
        "id": "D7Sg_pzaa_f_"
      }
    },
    {
      "cell_type": "markdown",
      "source": [
        "# Preparing Data"
      ],
      "metadata": {
        "id": "AM7kyq89TwBg"
      }
    },
    {
      "cell_type": "code",
      "execution_count": 1,
      "metadata": {
        "colab": {
          "base_uri": "https://localhost:8080/"
        },
        "id": "r-w1Gc9hMU4C",
        "outputId": "031b9136-2055-40c4-f9dd-5426dca933d0"
      },
      "outputs": [
        {
          "output_type": "stream",
          "name": "stdout",
          "text": [
            "Downloading http://yann.lecun.com/exdb/mnist/train-images-idx3-ubyte.gz\n",
            "Downloading http://yann.lecun.com/exdb/mnist/train-images-idx3-ubyte.gz to ./mnist/MNIST/raw/train-images-idx3-ubyte.gz\n"
          ]
        },
        {
          "output_type": "stream",
          "name": "stderr",
          "text": [
            "100%|██████████| 9912422/9912422 [00:00<00:00, 103713959.53it/s]\n"
          ]
        },
        {
          "output_type": "stream",
          "name": "stdout",
          "text": [
            "Extracting ./mnist/MNIST/raw/train-images-idx3-ubyte.gz to ./mnist/MNIST/raw\n",
            "\n",
            "Downloading http://yann.lecun.com/exdb/mnist/train-labels-idx1-ubyte.gz\n",
            "Downloading http://yann.lecun.com/exdb/mnist/train-labels-idx1-ubyte.gz to ./mnist/MNIST/raw/train-labels-idx1-ubyte.gz\n"
          ]
        },
        {
          "output_type": "stream",
          "name": "stderr",
          "text": [
            "100%|██████████| 28881/28881 [00:00<00:00, 30051027.99it/s]\n"
          ]
        },
        {
          "output_type": "stream",
          "name": "stdout",
          "text": [
            "Extracting ./mnist/MNIST/raw/train-labels-idx1-ubyte.gz to ./mnist/MNIST/raw\n",
            "\n",
            "Downloading http://yann.lecun.com/exdb/mnist/t10k-images-idx3-ubyte.gz\n",
            "Downloading http://yann.lecun.com/exdb/mnist/t10k-images-idx3-ubyte.gz to ./mnist/MNIST/raw/t10k-images-idx3-ubyte.gz\n"
          ]
        },
        {
          "output_type": "stream",
          "name": "stderr",
          "text": [
            "100%|██████████| 1648877/1648877 [00:00<00:00, 26630207.03it/s]\n"
          ]
        },
        {
          "output_type": "stream",
          "name": "stdout",
          "text": [
            "Extracting ./mnist/MNIST/raw/t10k-images-idx3-ubyte.gz to ./mnist/MNIST/raw\n",
            "\n",
            "Downloading http://yann.lecun.com/exdb/mnist/t10k-labels-idx1-ubyte.gz\n",
            "Downloading http://yann.lecun.com/exdb/mnist/t10k-labels-idx1-ubyte.gz to ./mnist/MNIST/raw/t10k-labels-idx1-ubyte.gz\n"
          ]
        },
        {
          "output_type": "stream",
          "name": "stderr",
          "text": [
            "100%|██████████| 4542/4542 [00:00<00:00, 5070675.74it/s]\n"
          ]
        },
        {
          "output_type": "stream",
          "name": "stdout",
          "text": [
            "Extracting ./mnist/MNIST/raw/t10k-labels-idx1-ubyte.gz to ./mnist/MNIST/raw\n",
            "\n"
          ]
        }
      ],
      "source": [
        "import torch\n",
        "import torch.nn as nn\n",
        "from torch.autograd import Variable\n",
        "import torch.utils.data as Data\n",
        "import torchvision\n",
        "import matplotlib.pyplot as plt\n",
        "\n",
        "BATCH_SIZE = 50\n",
        "\n",
        "train_data = torchvision.datasets.MNIST(\n",
        "             root='./mnist/',\n",
        "             train=True,\n",
        "             transform=torchvision.transforms.ToTensor(),\n",
        "             download= True,\n",
        "             )\n",
        "\n",
        "# Dataset Loader (Input Pipline)\n",
        "train_loader = Data.DataLoader(dataset=train_data, batch_size=BATCH_SIZE, shuffle=True)\n",
        "\n",
        "#Data.DataLoader(dataset,batch_size=1, shuffle=False, sampler=None, num_workers=0, collate_fn=<function default_collate>, pin_memory=False, drop_last=False)\n",
        "\n",
        "test_data = torchvision.datasets.MNIST(root='./mnist/', train=False)\n",
        "test_x = Variable(torch.unsqueeze(test_data.data, dim=1)).type(torch.FloatTensor)\n",
        "test_y = test_data.targets"
      ]
    },
    {
      "cell_type": "code",
      "source": [
        "# Check the dataset\n",
        "print(train_data.data.size())\n",
        "print(train_data.targets.size())"
      ],
      "metadata": {
        "colab": {
          "base_uri": "https://localhost:8080/"
        },
        "id": "izei9s5GT0wu",
        "outputId": "9b1189da-8d94-4f4a-c8c0-28c81c916ecc"
      },
      "execution_count": 2,
      "outputs": [
        {
          "output_type": "stream",
          "name": "stdout",
          "text": [
            "torch.Size([60000, 28, 28])\n",
            "torch.Size([60000])\n"
          ]
        }
      ]
    },
    {
      "cell_type": "code",
      "source": [
        "# Check the dataset\n",
        "print(train_data)\n",
        "print('\\n')\n",
        "print(test_data)\n",
        "print('\\n')\n",
        "print(train_loader)"
      ],
      "metadata": {
        "colab": {
          "base_uri": "https://localhost:8080/"
        },
        "id": "zZ_OL-z8T3Nd",
        "outputId": "e562098b-04d8-40f3-b891-a603af410f47"
      },
      "execution_count": 3,
      "outputs": [
        {
          "output_type": "stream",
          "name": "stdout",
          "text": [
            "Dataset MNIST\n",
            "    Number of datapoints: 60000\n",
            "    Root location: ./mnist/\n",
            "    Split: Train\n",
            "    StandardTransform\n",
            "Transform: ToTensor()\n",
            "\n",
            "\n",
            "Dataset MNIST\n",
            "    Number of datapoints: 10000\n",
            "    Root location: ./mnist/\n",
            "    Split: Test\n",
            "\n",
            "\n",
            "<torch.utils.data.dataloader.DataLoader object at 0x7fdfc5673d90>\n"
          ]
        }
      ]
    },
    {
      "cell_type": "markdown",
      "source": [
        "Images of MNIST"
      ],
      "metadata": {
        "id": "NiE7OufgT6F5"
      }
    },
    {
      "cell_type": "code",
      "source": [
        "for i in range(1,3):\n",
        "    plt.imshow(train_data.data[i].numpy(), cmap='gray')\n",
        "    plt.title('%i' % train_data.targets[i])\n",
        "    plt.show()"
      ],
      "metadata": {
        "colab": {
          "base_uri": "https://localhost:8080/",
          "height": 887
        },
        "id": "CIWIPRmWT774",
        "outputId": "ce996a84-bf8d-412e-c45a-8b83bca899fa"
      },
      "execution_count": 4,
      "outputs": [
        {
          "output_type": "display_data",
          "data": {
            "text/plain": [
              "<Figure size 640x480 with 1 Axes>"
            ],
            "image/png": "[encoded data removed]"
          },
          "metadata": {}
        },
        {
          "output_type": "display_data",
          "data": {
            "text/plain": [
              "<Figure size 640x480 with 1 Axes>"
            ],
            "image/png": "[encoded data removed]"
          },
          "metadata": {}
        }
      ]
    },
    {
      "cell_type": "markdown",
      "source": [
        "# Initializing CNN"
      ],
      "metadata": {
        "id": "HSVGBfNHT_LC"
      }
    },
    {
      "cell_type": "code",
      "source": [
        "class CNN(nn.Module):\n",
        "    def __init__(self):  \n",
        "        super(CNN, self).__init__()  \n",
        "        self.conv1 = nn.Sequential(  \n",
        "                     nn.Conv2d(in_channels=1, out_channels=16, kernel_size=5, stride=1, padding=2),\n",
        "                     nn.ReLU(),\n",
        "                     nn.MaxPool2d(kernel_size=2) # (16,14,14)\n",
        "                     )\n",
        "\n",
        "        self.conv2 = nn.Sequential( # (16,14,14)\n",
        "                     nn.Conv2d(16, 32, 5, 1, 2), # (32,14,14)\n",
        "                     nn.ReLU(),\n",
        "                     nn.MaxPool2d(2) # (32,7,7)\n",
        "                     )\n",
        "        self.out = nn.Linear(32*7*7, 10)\n",
        "\n",
        "    def forward(self, x):\n",
        "        x = self.conv1(x)\n",
        "        x = self.conv2(x)\n",
        "        x = x.view(x.size(0), -1) # (batch, 32,7,7) -> (batch, 32*7*7)\n",
        "        output = self.out(x)\n",
        "        return output"
      ],
      "metadata": {
        "id": "2vmwGTzGT-2V"
      },
      "execution_count": 5,
      "outputs": []
    },
    {
      "cell_type": "code",
      "source": [
        "# Initialization\n",
        "cnn = CNN()\n",
        "print(cnn)\n",
        "\n",
        "params = list(cnn.parameters())\n",
        "print('-----')\n",
        "print(len(params))\n",
        "print(params[0].size())\n",
        "\n",
        "EPOCH = 4\n",
        "BATCH_SIZE = 50\n",
        "LR = 0.001 # 0.001 is recommended\n",
        "\n",
        "# Optimizer = Adam\n",
        "optimizer = torch.optim.Adam(cnn.parameters(), lr=LR)\n",
        "\n",
        "# Loss function = cross-entropy\n",
        "loss_function = nn.CrossEntropyLoss()"
      ],
      "metadata": {
        "colab": {
          "base_uri": "https://localhost:8080/"
        },
        "id": "D7Edu1ytUFn0",
        "outputId": "b4058ba1-f0ee-42bc-cff0-90d8301de42d"
      },
      "execution_count": 6,
      "outputs": [
        {
          "output_type": "stream",
          "name": "stdout",
          "text": [
            "CNN(\n",
            "  (conv1): Sequential(\n",
            "    (0): Conv2d(1, 16, kernel_size=(5, 5), stride=(1, 1), padding=(2, 2))\n",
            "    (1): ReLU()\n",
            "    (2): MaxPool2d(kernel_size=2, stride=2, padding=0, dilation=1, ceil_mode=False)\n",
            "  )\n",
            "  (conv2): Sequential(\n",
            "    (0): Conv2d(16, 32, kernel_size=(5, 5), stride=(1, 1), padding=(2, 2))\n",
            "    (1): ReLU()\n",
            "    (2): MaxPool2d(kernel_size=2, stride=2, padding=0, dilation=1, ceil_mode=False)\n",
            "  )\n",
            "  (out): Linear(in_features=1568, out_features=10, bias=True)\n",
            ")\n",
            "-----\n",
            "6\n",
            "torch.Size([16, 1, 5, 5])\n"
          ]
        }
      ]
    },
    {
      "cell_type": "markdown",
      "source": [
        "# Training CNN"
      ],
      "metadata": {
        "id": "PwTt43wRUW7J"
      }
    },
    {
      "cell_type": "code",
      "source": [
        "def rightness(predictions, labels):\n",
        "    '''\n",
        "    Calculate the prediction error rate\n",
        "    1. \"predictions\" gives a series of predictions, which is a  \"batch_size\" x \"num_classes\" matrix.\n",
        "    2. \"labels\" are correct answer\n",
        "    '''\n",
        "    pred = torch.max(predictions.data, 1)[1] \n",
        "    # For the first dimension of every row (every image), ouput the index of the biggest elements in every row.\n",
        "    rights = pred.eq(labels.data.view_as(pred)).sum() \n",
        "    # Compare the indexs with categories in \"labels\", and get the accumulated correct numbers.\n",
        "    return rights, len(labels) \n",
        "    # Return the correct numbers and all samples. "
      ],
      "metadata": {
        "id": "yvRGmwndUYw3"
      },
      "execution_count": 7,
      "outputs": []
    },
    {
      "cell_type": "code",
      "source": [
        "record = [] # A container recording the training accuracies\n",
        "\n",
        "for epoch in range(EPOCH):  \n",
        "\n",
        "    train_rights = [] # Record the training accuracies\n",
        "\n",
        "    for step, (x, y) in enumerate(train_loader):  \n",
        "\n",
        "        b_x = Variable(x)  \n",
        "        b_y = Variable(y)  \n",
        "\n",
        "        cnn.train() \n",
        "        # Tell PyTorch that the model is running in training mode (training)\n",
        "\n",
        "        output = cnn(b_x)  \n",
        "        loss = loss_function(output, b_y)  \n",
        "        optimizer.zero_grad() \n",
        "        # Indicate optimizer & loss function.\n",
        "        # Bear in mind that one must zero the gradients last time before back propagation.\n",
        " \n",
        "        loss.backward()  \n",
        "        optimizer.step()\n",
        "\n",
        "        right = rightness(output, b_y) # (outputs, labels) = (correct numbers, all samples)\n",
        "        train_rights.append(right)   \n",
        "\n",
        "\n",
        "        if step % 200 == 0:\n",
        "\n",
        "            cnn.eval() \n",
        "            # Tell PyTorch that the model is running in evaluation mode (validation/test)\n",
        "\n",
        "            test_output = cnn(test_x)\n",
        "\n",
        "            pred_y = torch.max(test_output, 1)[1].data.squeeze()\n",
        "            test_accuracy = (sum(pred_y == test_y).item() / test_y.size(0)) * 100\n",
        "\n",
        "            train_r = (sum([tup[0] for tup in train_rights]), sum([tup[1] for tup in train_rights]))\n",
        "            training_accuracy = 100. * train_r[0].numpy() / train_r[1]\n",
        "\n",
        "            total_step = len(train_data)//BATCH_SIZE\n",
        "\n",
        "            print('Epoch [{}/{}], Step [{:4}/{}], Loss: {:.4f} | training accuracy: {:6.2f} % | test accuracy:{:6.2f} %'.format(\n",
        "                 epoch+1, EPOCH, step+200, total_step, loss.data, training_accuracy, test_accuracy))\n",
        "            \n",
        "            record.append((100 - 100. * train_r[0] / train_r[1], 100 - test_accuracy))"
      ],
      "metadata": {
        "colab": {
          "base_uri": "https://localhost:8080/"
        },
        "id": "jDheyAPiUao_",
        "outputId": "ef52a945-60db-4f82-a99d-617748c4a884"
      },
      "execution_count": 8,
      "outputs": [
        {
          "output_type": "stream",
          "name": "stdout",
          "text": [
            "Epoch [1/4], Step [ 200/1200], Loss: 2.3019 | training accuracy:  10.00 % | test accuracy: 18.67 %\n",
            "Epoch [1/4], Step [ 400/1200], Loss: 0.0581 | training accuracy:  82.78 % | test accuracy: 94.83 %\n",
            "Epoch [1/4], Step [ 600/1200], Loss: 0.1786 | training accuracy:  89.01 % | test accuracy: 95.89 %\n",
            "Epoch [1/4], Step [ 800/1200], Loss: 0.0918 | training accuracy:  91.67 % | test accuracy: 97.25 %\n",
            "Epoch [1/4], Step [1000/1200], Loss: 0.0449 | training accuracy:  93.07 % | test accuracy: 97.31 %\n",
            "Epoch [1/4], Step [1200/1200], Loss: 0.0400 | training accuracy:  93.95 % | test accuracy: 98.11 %\n",
            "Epoch [2/4], Step [ 200/1200], Loss: 0.1073 | training accuracy:  98.00 % | test accuracy: 97.96 %\n",
            "Epoch [2/4], Step [ 400/1200], Loss: 0.0412 | training accuracy:  97.98 % | test accuracy: 98.32 %\n",
            "Epoch [2/4], Step [ 600/1200], Loss: 0.0176 | training accuracy:  98.20 % | test accuracy: 97.97 %\n",
            "Epoch [2/4], Step [ 800/1200], Loss: 0.0548 | training accuracy:  98.26 % | test accuracy: 98.12 %\n",
            "Epoch [2/4], Step [1000/1200], Loss: 0.0184 | training accuracy:  98.29 % | test accuracy: 98.67 %\n",
            "Epoch [2/4], Step [1200/1200], Loss: 0.0225 | training accuracy:  98.32 % | test accuracy: 98.28 %\n",
            "Epoch [3/4], Step [ 200/1200], Loss: 0.0236 | training accuracy: 100.00 % | test accuracy: 98.29 %\n",
            "Epoch [3/4], Step [ 400/1200], Loss: 0.0018 | training accuracy:  98.82 % | test accuracy: 98.49 %\n",
            "Epoch [3/4], Step [ 600/1200], Loss: 0.0213 | training accuracy:  98.83 % | test accuracy: 98.49 %\n",
            "Epoch [3/4], Step [ 800/1200], Loss: 0.1783 | training accuracy:  98.87 % | test accuracy: 98.71 %\n",
            "Epoch [3/4], Step [1000/1200], Loss: 0.0466 | training accuracy:  98.80 % | test accuracy: 98.78 %\n",
            "Epoch [3/4], Step [1200/1200], Loss: 0.0353 | training accuracy:  98.81 % | test accuracy: 98.18 %\n",
            "Epoch [4/4], Step [ 200/1200], Loss: 0.0381 | training accuracy: 100.00 % | test accuracy: 98.86 %\n",
            "Epoch [4/4], Step [ 400/1200], Loss: 0.0161 | training accuracy:  99.11 % | test accuracy: 99.03 %\n",
            "Epoch [4/4], Step [ 600/1200], Loss: 0.0066 | training accuracy:  99.17 % | test accuracy: 98.93 %\n",
            "Epoch [4/4], Step [ 800/1200], Loss: 0.0057 | training accuracy:  99.13 % | test accuracy: 98.88 %\n",
            "Epoch [4/4], Step [1000/1200], Loss: 0.0114 | training accuracy:  99.10 % | test accuracy: 98.90 %\n",
            "Epoch [4/4], Step [1200/1200], Loss: 0.0427 | training accuracy:  99.08 % | test accuracy: 99.08 %\n"
          ]
        }
      ]
    },
    {
      "cell_type": "markdown",
      "source": [
        "# Accuracy on Training & Test Data"
      ],
      "metadata": {
        "id": "WYx65NjTUdC4"
      }
    },
    {
      "cell_type": "code",
      "source": [
        "import numpy as np\n",
        "\n",
        "plt.figure(figsize = (13, 5.5))\n",
        "train_error, test_error = [k[0] for k in record], [k[1] for k in record]\n",
        "# \"record\" records the (training error rate, test error rate) in each step\n",
        "plt.plot(list(range(1,25)), train_error, label= \"Training data\") \n",
        "plt.plot(list(range(1,25)), test_error, label= \"Test data\") \n",
        "\n",
        "plt.xticks(range(0, 25, 1)) \n",
        "\n",
        "plt.xlabel('Steps', fontsize = 'xx-large') # Change font size\n",
        "plt.ylabel('Error rate (%)')\n",
        "plt.ylabel('Error rate (%)', fontsize = 'xx-large') # Change font size\n",
        "plt.title('CNN', fontname='DejaVu Sans', fontsize = 'xx-large') # Change font size\n",
        "\n",
        "plt.grid() # Simply add grid by default\n",
        "plt.legend(fontsize = 'xx-large',  loc= 'upper right')\n",
        "plt.show()"
      ],
      "metadata": {
        "colab": {
          "base_uri": "https://localhost:8080/",
          "height": 541
        },
        "id": "vQADvrxGUfDP",
        "outputId": "28327751-d17e-4e26-9594-cefa78d1bbcf"
      },
      "execution_count": 17,
      "outputs": [
        {
          "output_type": "display_data",
          "data": {
            "text/plain": [
              "<Figure size 1300x550 with 1 Axes>"
            ],
            "image/png": "[encoded data removed]"
          },
          "metadata": {}
        }
      ]
    },
    {
      "cell_type": "code",
      "source": [
        "print('Accuracy of the CNN on the 60000 training images: %.4f %%' % \n",
        "      (100 - record[17][0]))\n",
        "\n",
        "print('Accuracy of the CNN on the 10000 test     images: %.4f %%' % \n",
        "      (100 - record[17][1]))"
      ],
      "metadata": {
        "colab": {
          "base_uri": "https://localhost:8080/"
        },
        "id": "VU1R1XfOUhNg",
        "outputId": "3acd7c8c-f8f4-47dd-de98-0a10c73eea53"
      },
      "execution_count": 14,
      "outputs": [
        {
          "output_type": "stream",
          "name": "stdout",
          "text": [
            "Accuracy of the CNN on the 60000 training images: 98.8092 %\n",
            "Accuracy of the CNN on the 10000 test     images: 98.1800 %\n"
          ]
        }
      ]
    },
    {
      "cell_type": "markdown",
      "source": [
        "# Predictions on Test Data"
      ],
      "metadata": {
        "id": "IXjiWpJkUjbs"
      }
    },
    {
      "cell_type": "code",
      "source": [
        "test_output = cnn(test_x[:20])\n",
        "pred_y = torch.max(test_output, 1)[1].data.numpy().squeeze()\n",
        "\n",
        "print('Prediction number of test data:', pred_y[:20])\n",
        "print('Real       number of test data:', test_y[:20].numpy())"
      ],
      "metadata": {
        "colab": {
          "base_uri": "https://localhost:8080/"
        },
        "id": "Z8f2A-lIUlRO",
        "outputId": "460e47b4-ffa3-4c71-af48-335a800c7f84"
      },
      "execution_count": 15,
      "outputs": [
        {
          "output_type": "stream",
          "name": "stdout",
          "text": [
            "Prediction number of test data: [7 2 1 0 4 1 4 9 5 9 0 6 9 0 1 5 9 7 3 4]\n",
            "Real       number of test data: [7 2 1 0 4 1 4 9 5 9 0 6 9 0 1 5 9 7 3 4]\n"
          ]
        }
      ]
    },
    {
      "cell_type": "markdown",
      "source": [
        "# Model Saving"
      ],
      "metadata": {
        "id": "yGQAY44sUm5U"
      }
    },
    {
      "cell_type": "code",
      "source": [
        "torch.save(cnn.state_dict(), 'ML14_CNN_parameter.pkl') # Save the parameters\n",
        "torch.save(cnn, 'ML14_CNN_whole_model.pkl') # Save the whole model "
      ],
      "metadata": {
        "id": "zhZ-ULDAUpA8"
      },
      "execution_count": 16,
      "outputs": []
    },
    {
      "cell_type": "markdown",
      "source": [
        "# Tensorflow"
      ],
      "metadata": {
        "id": "wQoiRq-fa6tp"
      }
    },
    {
      "cell_type": "code",
      "source": [
        "# baseline cnn model for mnist\n",
        "from numpy import mean\n",
        "from numpy import std\n",
        "from matplotlib import pyplot as plt\n",
        "from sklearn.model_selection import KFold\n",
        "from tensorflow.keras.datasets import mnist\n",
        "from tensorflow.keras.utils import to_categorical\n",
        "from tensorflow.keras.models import Sequential\n",
        "from tensorflow.keras.layers import Conv2D\n",
        "from tensorflow.keras.layers import MaxPooling2D\n",
        "from tensorflow.keras.layers import Dense\n",
        "from tensorflow.keras.layers import Flatten\n",
        "from tensorflow.keras.optimizers import SGD"
      ],
      "metadata": {
        "id": "PDm9RCu8a6J1"
      },
      "execution_count": 2,
      "outputs": []
    },
    {
      "cell_type": "code",
      "source": [
        "# load dataset\n",
        "(trainX, trainY), (testX, testY) = mnist.load_data()\n",
        "# reshape dataset to have a single channel\n",
        "trainX = trainX.reshape((trainX.shape[0], 28, 28, 1))\n",
        "testX = testX.reshape((testX.shape[0], 28, 28, 1))"
      ],
      "metadata": {
        "id": "BD1YL9gOaqDr"
      },
      "execution_count": 3,
      "outputs": []
    },
    {
      "cell_type": "code",
      "source": [
        "# one hot encode target values\n",
        "from keras.utils import to_categorical\n",
        "trainY = to_categorical(trainY)\n",
        "testY = to_categorical(testY)"
      ],
      "metadata": {
        "id": "YP5nP3TidOO6"
      },
      "execution_count": 4,
      "outputs": []
    },
    {
      "cell_type": "code",
      "source": [
        "# load train and test dataset\n",
        "def load_dataset():\n",
        "  # load dataset\n",
        "  (trainX, trainY), (testX, testY) = mnist.load_data()\n",
        "  # reshape dataset to have a single channel\n",
        "  trainX = trainX.reshape((trainX.shape[0], 28, 28, 1))\n",
        "  testX = testX.reshape((testX.shape[0], 28, 28, 1))\n",
        "  # one hot encode target values\n",
        "  trainY = to_categorical(trainY)\n",
        "  testY = to_categorical(testY)\n",
        "  return trainX, trainY, testX, testY"
      ],
      "metadata": {
        "id": "1lnD8ZiSdRY9"
      },
      "execution_count": 5,
      "outputs": []
    },
    {
      "cell_type": "code",
      "source": [
        "# scale pixels\n",
        "def prep_pixels(train, test):\n",
        "  # convert from integers to floats\n",
        "  train_norm = train.astype('float32')\n",
        "  test_norm = test.astype('float32')\n",
        "  # normalize to range 0-1\n",
        "  train_norm = train_norm / 255.0\n",
        "  test_norm = test_norm / 255.0\n",
        "  # return normalized images\n",
        "  return train_norm, test_norm"
      ],
      "metadata": {
        "id": "gcPErlM1dTzO"
      },
      "execution_count": 6,
      "outputs": []
    },
    {
      "cell_type": "code",
      "source": [
        "# define cnn model\n",
        "def define_model():\n",
        "  model = Sequential()\n",
        "  model.add(Conv2D(32, (3, 3), activation='relu', kernel_initializer='he_uniform', input_shape=(28, 28, 1)))\n",
        "  model.add(MaxPooling2D((2, 2)))\n",
        "  model.add(Flatten())\n",
        "  model.add(Dense(100, activation='relu', kernel_initializer='he_uniform'))\n",
        "  model.add(Dense(10, activation='softmax'))\n",
        "  # compile model\n",
        "  opt = SGD(learning_rate=0.01, momentum=0.9)\n",
        "  model.compile(optimizer=opt, loss='categorical_crossentropy', metrics=['accuracy'])\n",
        "  return model"
      ],
      "metadata": {
        "id": "GM9xS5tndWlp"
      },
      "execution_count": 7,
      "outputs": []
    },
    {
      "cell_type": "code",
      "source": [
        "# evaluate a model using k-fold cross-validation\n",
        "def evaluate_model(dataX, dataY, n_folds=5):\n",
        "  scores, histories = list(), list()\n",
        "  # prepare cross validation\n",
        "  kfold = KFold(n_folds, shuffle=True, random_state=1)\n",
        "  # enumerate splits\n",
        "  for train_ix, test_ix in kfold.split(dataX):\n",
        "  # define model\n",
        "    model = define_model()\n",
        "    # select rows for train and test\n",
        "    trainX, trainY, testX, testY = dataX[train_ix], dataY[train_ix], dataX[test_ix], dataY[test_ix]\n",
        "    # fit model\n",
        "    history = model.fit(trainX, trainY, epochs=10, batch_size=32, validation_data=(testX, testY), verbose=0)\n",
        "    # evaluate model\n",
        "    _, acc = model.evaluate(testX, testY, verbose=0)\n",
        "    print('> %.3f' % (acc * 100.0))\n",
        "    # stores scores\n",
        "    scores.append(acc)\n",
        "    histories.append(history)\n",
        "    return scores, histories"
      ],
      "metadata": {
        "id": "lpJdxAxbdZAm"
      },
      "execution_count": 8,
      "outputs": []
    },
    {
      "cell_type": "code",
      "source": [
        "# plot diagnostic learning curves\n",
        "def summarize_diagnostics(histories):\n",
        "  for i in range(len(histories)):\n",
        "  # plot loss\n",
        "    plt.subplot(2, 1, 1)\n",
        "    plt.title('Cross Entropy Loss')\n",
        "    plt.plot(histories[i].history['loss'], color='blue', label='train')\n",
        "    plt.plot(histories[i].history['val_loss'], color='orange', label='test')\n",
        "    # plot accuracy\n",
        "    plt.subplot(2, 1, 2)\n",
        "    plt.title('Classification Accuracy')\n",
        "    plt.plot(histories[i].history['accuracy'], color='blue', label='train')\n",
        "    plt.plot(histories[i].history['val_accuracy'], color='orange', label='test')\n",
        "    plt.show()"
      ],
      "metadata": {
        "id": "MnRCyqR0dblL"
      },
      "execution_count": 9,
      "outputs": []
    },
    {
      "cell_type": "code",
      "source": [
        "# summarize model performance\n",
        "def summarize_performance(scores):\n",
        "  # print summary\n",
        "  print('Accuracy: mean=%.3f std=%.3f, n=%d' % (mean(scores)*100, std(scores)*100, len(scores)))\n",
        "  # box and whisker plots of results\n",
        "  plt.boxplot(scores)\n",
        "  plt.show()"
      ],
      "metadata": {
        "id": "DKWfJ4RYddnD"
      },
      "execution_count": 10,
      "outputs": []
    },
    {
      "cell_type": "code",
      "source": [
        "# run the test harness for evaluating a model\n",
        "def run_test_harness():\n",
        "  # load dataset\n",
        "  trainX, trainY, testX, testY = load_dataset()\n",
        "  # prepare pixel data\n",
        "  trainX, testX = prep_pixels(trainX, testX)\n",
        "  # evaluate model\n",
        "  scores, histories = evaluate_model(trainX, trainY)\n",
        "  # learning curves\n",
        "  summarize_diagnostics(histories)\n",
        "  # summarize estimated performance\n",
        "  summarize_performance(scores)\n",
        " \n",
        "# entry point, run the test harness\n",
        "run_test_harness()"
      ],
      "metadata": {
        "colab": {
          "base_uri": "https://localhost:8080/",
          "height": 905
        },
        "id": "R6_4tXxxdgjn",
        "outputId": "a1958d19-dac2-414b-c5c6-759c95dbf626"
      },
      "execution_count": 11,
      "outputs": [
        {
          "output_type": "stream",
          "name": "stdout",
          "text": [
            "> 98.583\n"
          ]
        },
        {
          "output_type": "display_data",
          "data": {
            "text/plain": [
              "<Figure size 640x480 with 2 Axes>"
            ],
            "image/png": "[encoded data removed]"
          },
          "metadata": {}
        },
        {
          "output_type": "stream",
          "name": "stdout",
          "text": [
            "Accuracy: mean=98.583 std=0.000, n=1\n"
          ]
        },
        {
          "output_type": "display_data",
          "data": {
            "text/plain": [
              "<Figure size 640x480 with 1 Axes>"
            ],
            "image/png": "[encoded data removed]"
          },
          "metadata": {}
        }
      ]
    }
  ]
}